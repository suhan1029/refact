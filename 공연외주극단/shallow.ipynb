{
 "cells": [
  {
   "cell_type": "markdown",
   "id": "65036ce4",
   "metadata": {},
   "source": [
    "## 얕은 복사 설명 코드"
   ]
  },
  {
   "cell_type": "markdown",
   "id": "92642d29",
   "metadata": {},
   "source": [
    "### 파이썬은 기본적으로 얕은 복사를 지향한다.\n",
    "다만 자료형에 따라 다르다 (list는 얕은 복사가 되고, int는 안됨)\n",
    "immutable, mutable의 차이로 인한 것\n",
    "\n",
    "immutable(변할 수 없는, 불변의): 정수(int), 문자열(str)과 같은 자료 유형과 tuple 등\n",
    "\n",
    "mutable(변할 수 있는): 대표적으로 list, dict 자료 유형이 있음\n",
    "\n"
   ]
  },
  {
   "cell_type": "code",
   "execution_count": 1,
   "id": "dc382ddc",
   "metadata": {},
   "outputs": [
    {
     "name": "stdout",
     "output_type": "stream",
     "text": [
      "[1, 2, 3] [1, 2, 3]\n"
     ]
    }
   ],
   "source": [
    "a = [1, 2, 3]\n",
    "b = a  # 얕은 복사(주소값을 복사)\n",
    "\n",
    "print(a, b)"
   ]
  },
  {
   "cell_type": "code",
   "execution_count": 2,
   "id": "1876c2c2",
   "metadata": {},
   "outputs": [
    {
     "name": "stdout",
     "output_type": "stream",
     "text": [
      "3129297908096 3129297908096\n"
     ]
    }
   ],
   "source": [
    "print(id(a), id(b)) # 주소값이 같게 나옴"
   ]
  },
  {
   "cell_type": "code",
   "execution_count": 3,
   "id": "c27a791a",
   "metadata": {},
   "outputs": [
    {
     "name": "stdout",
     "output_type": "stream",
     "text": [
      "[100, 2, 3] [100, 2, 3]\n",
      "3129297908096 3129297908096\n"
     ]
    }
   ],
   "source": [
    "a[0] = 100\n",
    "print(a, b)\n",
    "print(id(a), id(b))\n",
    "# 배열 a안에 있는 값(복사 대상의 값)을 바꿨더니 b(복사한 값)도 같이 바뀌었다."
   ]
  },
  {
   "cell_type": "code",
   "execution_count": 4,
   "id": "a3f3af71",
   "metadata": {},
   "outputs": [
    {
     "name": "stdout",
     "output_type": "stream",
     "text": [
      "5 5\n",
      "140728652755880 140728652755880\n"
     ]
    }
   ],
   "source": [
    "# 이번엔 int로 시도\n",
    "int_a = 5\n",
    "int_b = int_a\n",
    "\n",
    "print(int_a, int_b)\n",
    "print(id(int_a), id(int_b))\n",
    "# 처음에는 주소값이 같게 나옴"
   ]
  },
  {
   "cell_type": "code",
   "execution_count": 5,
   "id": "d5884d56",
   "metadata": {},
   "outputs": [
    {
     "name": "stdout",
     "output_type": "stream",
     "text": [
      "10 5\n",
      "140728652756040 140728652755880\n"
     ]
    }
   ],
   "source": [
    "int_a += 5\n",
    "\n",
    "print(int_a, int_b)\n",
    "print(id(int_a), id(int_b))\n",
    "# 값이 달라지고 주소값도 달라짐"
   ]
  },
  {
   "cell_type": "markdown",
   "id": "a0aac023",
   "metadata": {},
   "source": [
    "## (보너스) 깊은 복사\n",
    "다른 메모리 공간에 값을 복사하는 것"
   ]
  },
  {
   "cell_type": "code",
   "execution_count": 6,
   "id": "2346764a",
   "metadata": {},
   "outputs": [
    {
     "name": "stdout",
     "output_type": "stream",
     "text": [
      "[1, 2, 3] [1, 2, 3]\n",
      "3129297977728 3129297978560\n"
     ]
    }
   ],
   "source": [
    "import copy # 깊은 복사를 위한 라이브러리\n",
    "\n",
    "a = [1, 2, 3]\n",
    "b = copy.deepcopy(a)\n",
    "\n",
    "print(a, b)\n",
    "print(id(a), id(b))\n",
    "# 값은 같아도 주소값은 달라짐"
   ]
  },
  {
   "cell_type": "code",
   "execution_count": 7,
   "id": "66f2d262",
   "metadata": {},
   "outputs": [
    {
     "name": "stdout",
     "output_type": "stream",
     "text": [
      "[100, 2, 3] [1, 2, 3]\n",
      "3129297977728 3129297978560\n"
     ]
    }
   ],
   "source": [
    "a[0] = 100\n",
    "print(a, b)\n",
    "print(id(a), id(b))\n",
    "# 배열 a의 0번째 인덱스 값을 바꿨음에도 b는 바뀐게 없고 주소값은 계속 다름"
   ]
  },
  {
   "cell_type": "markdown",
   "id": "7263cbb7",
   "metadata": {},
   "source": [
    "#### 얕은 복사를 하든, 깊은 복사를 하든 코드에서는 에러가 나오지 않지만 결과값이 의도치 않은 값이 나올 수 있음"
   ]
  },
  {
   "cell_type": "markdown",
   "id": "2ea2d7e2",
   "metadata": {},
   "source": [
    "얕은 복사가 필요한 이유:\n",
    "\n",
    "원본의 값을 바꾸더라도 복사한 객체의 값이 바뀌지 않아야 하는 경우가 꽤 있다.\n",
    "\n",
    "f_statement_13.js에서 얕은 복사를 사용한 이유는 원본 invoice를 오염시키지 않으면서 invoice.performances.map(enrichPerformance)으로 새로운 배열을 만들고 각 요소도 Object.assign으로 새 객체가 된다.\n",
    "\n",
    "그래서 원본 배열/객체에 영향 없이 필드 추가가 가능하다."
   ]
  },
  {
   "cell_type": "code",
   "execution_count": null,
   "id": "4a46dd01",
   "metadata": {},
   "outputs": [],
   "source": []
  }
 ],
 "metadata": {
  "kernelspec": {
   "display_name": "Python 3",
   "language": "python",
   "name": "python3"
  },
  "language_info": {
   "codemirror_mode": {
    "name": "ipython",
    "version": 3
   },
   "file_extension": ".py",
   "mimetype": "text/x-python",
   "name": "python",
   "nbconvert_exporter": "python",
   "pygments_lexer": "ipython3",
   "version": "3.11.9"
  }
 },
 "nbformat": 4,
 "nbformat_minor": 5
}
