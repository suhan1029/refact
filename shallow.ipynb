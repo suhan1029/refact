{
 "cells": [
  {
   "cell_type": "markdown",
   "id": "65036ce4",
   "metadata": {},
   "source": [
    "## 얕은 복사 설명 코드"
   ]
  },
  {
   "cell_type": "markdown",
   "id": "92642d29",
   "metadata": {},
   "source": [
    "### 파이썬은 기본적으로 얕은 복사를 지향한다.\n",
    "다만 자료형에 따라 다르다 (list는 얕은 복사가 되고, int는 안됨)\n",
    "immutable, mutable의 차이로 인한 것"
   ]
  },
  {
   "cell_type": "code",
   "execution_count": null,
   "id": "dc382ddc",
   "metadata": {},
   "outputs": [
    {
     "name": "stdout",
     "output_type": "stream",
     "text": [
      "[1, 2, 3] [1, 2, 3]\n"
     ]
    }
   ],
   "source": [
    "a = [1, 2, 3]\n",
    "b = a  # 얕은 복사(주소값을 복사)\n",
    "\n",
    "print(a, b)"
   ]
  },
  {
   "cell_type": "code",
   "execution_count": null,
   "id": "1876c2c2",
   "metadata": {},
   "outputs": [
    {
     "name": "stdout",
     "output_type": "stream",
     "text": [
      "1859059136896 1859059136896\n"
     ]
    }
   ],
   "source": [
    "print(id(a), id(b)) # 주소값이 같게 나옴"
   ]
  },
  {
   "cell_type": "code",
   "execution_count": null,
   "id": "c27a791a",
   "metadata": {},
   "outputs": [
    {
     "name": "stdout",
     "output_type": "stream",
     "text": [
      "[100, 2, 3] [100, 2, 3]\n",
      "1859059136896 1859059136896\n"
     ]
    }
   ],
   "source": [
    "a[0] = 100\n",
    "print(a, b)\n",
    "print(id(a), id(b))\n",
    "# 배열 a안에 있는 값을 바꿨더니 b도 같이 바뀌었다."
   ]
  },
  {
   "cell_type": "code",
   "execution_count": null,
   "id": "a3f3af71",
   "metadata": {},
   "outputs": [
    {
     "name": "stdout",
     "output_type": "stream",
     "text": [
      "5 5\n",
      "140719724721064 140719724721064\n"
     ]
    }
   ],
   "source": [
    "# 이번엔 int로 시도\n",
    "int_a = 5\n",
    "int_b = int_a\n",
    "\n",
    "print(int_a, int_b)\n",
    "print(id(int_a), id(int_b))\n",
    "# 처음에는 주소값이 같게 나옴"
   ]
  },
  {
   "cell_type": "code",
   "execution_count": null,
   "id": "d5884d56",
   "metadata": {},
   "outputs": [
    {
     "name": "stdout",
     "output_type": "stream",
     "text": [
      "10 5\n",
      "140719724721224 140719724721064\n"
     ]
    }
   ],
   "source": [
    "int_a += 5\n",
    "\n",
    "print(int_a, int_b)\n",
    "print(id(int_a), id(int_b))\n",
    "# 값이 달라지고 주소값도 달라짐"
   ]
  },
  {
   "cell_type": "markdown",
   "id": "a0aac023",
   "metadata": {},
   "source": [
    "## (보너스) 깊은 복사\n",
    "다른 메모리 공간에 값을 복사하는 것"
   ]
  },
  {
   "cell_type": "code",
   "execution_count": null,
   "id": "2346764a",
   "metadata": {},
   "outputs": [
    {
     "name": "stdout",
     "output_type": "stream",
     "text": [
      "[1, 2, 3] [1, 2, 3]\n",
      "1859059129984 1859058845888\n"
     ]
    }
   ],
   "source": [
    "import copy # 깊은 복사를 위한 라이브러리\n",
    "\n",
    "a = [1, 2, 3]\n",
    "b = copy.deepcopy(a)\n",
    "\n",
    "print(a, b)\n",
    "print(id(a), id(b))\n",
    "# 값은 같아도 주소값은 달라짐"
   ]
  },
  {
   "cell_type": "code",
   "execution_count": null,
   "id": "66f2d262",
   "metadata": {},
   "outputs": [
    {
     "name": "stdout",
     "output_type": "stream",
     "text": [
      "[100, 2, 3] [1, 2, 3]\n",
      "1859059129984 1859058845888\n"
     ]
    }
   ],
   "source": [
    "a[0] = 100\n",
    "print(a, b)\n",
    "print(id(a), id(b))\n",
    "# 배열 a의 0번째 인덱스 값을 바꿨음에도 b는 바뀐게 없고 주소값은 계속 다름"
   ]
  },
  {
   "cell_type": "code",
   "execution_count": null,
   "id": "4a46dd01",
   "metadata": {},
   "outputs": [],
   "source": []
  },
  {
   "cell_type": "code",
   "execution_count": null,
   "id": "7217916b",
   "metadata": {},
   "outputs": [],
   "source": []
  },
  {
   "cell_type": "code",
   "execution_count": null,
   "id": "e9fbff97",
   "metadata": {},
   "outputs": [],
   "source": []
  }
 ],
 "metadata": {
  "kernelspec": {
   "display_name": "Python 3",
   "language": "python",
   "name": "python3"
  },
  "language_info": {
   "codemirror_mode": {
    "name": "ipython",
    "version": 3
   },
   "file_extension": ".py",
   "mimetype": "text/x-python",
   "name": "python",
   "nbconvert_exporter": "python",
   "pygments_lexer": "ipython3",
   "version": "3.11.9"
  }
 },
 "nbformat": 4,
 "nbformat_minor": 5
}
